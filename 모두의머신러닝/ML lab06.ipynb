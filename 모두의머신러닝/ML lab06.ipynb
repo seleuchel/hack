{
 "cells": [
  {
   "cell_type": "code",
   "execution_count": 2,
   "metadata": {},
   "outputs": [
    {
     "data": {
      "text/plain": [
       "'\\nsoftmax 는 여러개의 클래스를 예측할 때 유용하다.\\nbinary classification은 2개만 예측했었다.\\n\\n어떠한 값을 넣으면 확률이 되는데,\\nclass A가 될 확률이 얼마\\nclass B가 될 확률이 얼마\\nclass C가 될 확률이 얼마\\n\\n이 모든 확률을 더하면 1\\n\\n'"
      ]
     },
     "execution_count": 2,
     "metadata": {},
     "output_type": "execute_result"
    }
   ],
   "source": [
    "'''\n",
    "softmax 는 여러개의 클래스를 예측할 때 유용하다.\n",
    "binary classification은 2개만 예측했었다.\n",
    "\n",
    "어떠한 값을 넣으면 확률이 되는데,\n",
    "class A가 될 확률이 얼마\n",
    "class B가 될 확률이 얼마\n",
    "class C가 될 확률이 얼마\n",
    "\n",
    "이 모든 확률을 더하면 1\n",
    "\n",
    "텐서플로우에서 softmax를 제공하고 있다.\n",
    "tf.nn.softmax(tf.matmul(X,W) + b)\n",
    "\n",
    "'''"
   ]
  },
  {
   "cell_type": "code",
   "execution_count": 3,
   "metadata": {},
   "outputs": [],
   "source": [
    "import tensorflow as tf\n",
    "import numpy as np\n"
   ]
  },
  {
   "cell_type": "code",
   "execution_count": 14,
   "metadata": {},
   "outputs": [],
   "source": [
    "x_data = [[1,2,1,1],[2,1,3,2],[3,1,3,4],[4,1,5,5],[1,7,5,5],[1,2,5,6],[1,6,6,6],[1,7,7,7]]\n",
    "y_data = [[0,0,1],[0,0,1],[0,0,1],[0,1,0],[0,1,0],[0,1,0],[1,0,0],[1,0,0]]\n",
    "# 2, 2, 2, 1, 1, 1, 0,"
   ]
  },
  {
   "cell_type": "code",
   "execution_count": 13,
   "metadata": {},
   "outputs": [
    {
     "name": "stdout",
     "output_type": "stream",
     "text": [
      "0  your cost is :  9.314018\n",
      "200  your cost is :  0.70544016\n",
      "400  your cost is :  0.58737504\n",
      "600  your cost is :  0.49377215\n",
      "800  your cost is :  0.4043085\n",
      "1000  your cost is :  0.31496882\n",
      "1200  your cost is :  0.23922977\n",
      "1400  your cost is :  0.21585482\n",
      "1600  your cost is :  0.19723287\n",
      "1800  your cost is :  0.18143748\n",
      "2000  your cost is :  0.16788515\n"
     ]
    }
   ],
   "source": [
    "# 여기에서 사용하는 onehot 인코딩\n",
    "\n",
    "X = tf.placeholder(\"float\", [None,4])\n",
    "Y = tf.placeholder(\"float\",[None,3])\n",
    "nb_classes = 3\n",
    "\n",
    "#shape의 값의 설정을 어떻게 해 주는 지 제대로 파악해라\n",
    "W = tf.Variable(tf.random_normal([4,nb_classes]),name='weight')\n",
    "\n",
    "#출력값과 동일하게 shape를 설정\n",
    "b = tf.Variable(tf.random_normal([nb_classes]),name='bias')\n",
    "\n",
    "hypothesis = tf.nn.softmax(tf.matmul(X,W) +b )\n",
    "\n",
    "cost = tf.reduce_mean(-tf.reduce_sum(Y * tf.log(hypothesis),axis=1))\n",
    "optimizer = tf.train.GradientDescentOptimizer(learning_rate=0.1).minimize(cost)\n",
    "\n",
    "with tf.Session() as sess:\n",
    "    sess.run(tf.global_variables_initializer())\n",
    "    \n",
    "    feed = {X:x_data, Y:y_data}\n",
    "    for step in range(2001):\n",
    "        sess.run(optimizer, feed_dict=feed)\n",
    "        if step % 200 == 0:\n",
    "            print(step, ' your cost is : ', sess.run(cost, feed_dict=feed))\n",
    "\n",
    "            #@@ 왜 run의 어떤 것은 반환하고 어떤 것은 반환하지 않지?"
   ]
  },
  {
   "cell_type": "code",
   "execution_count": 16,
   "metadata": {},
   "outputs": [],
   "source": [
    "# 어떻게 출력을 할 것인가\n",
    "\n",
    "# > 6-2 < 이어서 진행하면 된다."
   ]
  },
  {
   "cell_type": "code",
   "execution_count": null,
   "metadata": {},
   "outputs": [],
   "source": []
  }
 ],
 "metadata": {
  "kernelspec": {
   "display_name": "Python 3",
   "language": "python",
   "name": "python3"
  },
  "language_info": {
   "codemirror_mode": {
    "name": "ipython",
    "version": 3
   },
   "file_extension": ".py",
   "mimetype": "text/x-python",
   "name": "python",
   "nbconvert_exporter": "python",
   "pygments_lexer": "ipython3",
   "version": "3.7.0"
  }
 },
 "nbformat": 4,
 "nbformat_minor": 4
}
