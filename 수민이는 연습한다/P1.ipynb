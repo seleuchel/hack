{
 "cells": [
  {
   "cell_type": "markdown",
   "metadata": {},
   "source": [
    "# P1.\n",
    "@@ 인공지능은 2x+1=y를 예측할 수 있을까?\n",
    "* 가중치와 편향값을 각각 하나를 가지는 간단한 모델 \n",
    "\n",
    "- models : 각 계층의 클래스를 모아 하나의 모델을 만들고 컴파일, 예측, 학습 수행\n",
    "- layers : 인공신경망의 각 계층을 만드는 클래스 제공"
   ]
  },
  {
   "cell_type": "code",
   "execution_count": 12,
   "metadata": {},
   "outputs": [
    {
     "name": "stdout",
     "output_type": "stream",
     "text": [
      "Targets: [5 7 9]\n",
      "Predictions: [4.999976  6.9999585 8.999941 ]\n"
     ]
    }
   ],
   "source": [
    "#숫자 5개 중 2개를 학습해 나머지 3개를 예측하는 케라스 예제\n",
    "import keras\n",
    "import numpy\n",
    "\n",
    "#데이터 넣기\n",
    "x = numpy.array([0,1,2,3,4])\n",
    "y = x * 2 + 1\n",
    "\n",
    "#@@ 이미 문제와 답이 주어짐\n",
    "#print(type(x))\n",
    "#print(x)\n",
    "#print(y)\n",
    "###\n",
    "\n",
    "#모델링\n",
    "model = keras.models.Sequential() #model이라는 모델 인스턴스(객체)를 만든다.\n",
    "\n",
    "model.add(keras.layers.Dense(1, input_shape=(1,))) #모델에 인공지능 계층 추가. Dense 기본 계층.\n",
    "#입력 노드 하나와 가중치 하나를 가지는 선형 처리 계층\n",
    "\n",
    "model.compile('SGD', 'mse')#만든 모델을 어떻게 학습할 것인가 + 컴파일\n",
    "#SGD : 학습 최적화 알고리즘 - 확률적 경사 하강법\n",
    "#MSE : 손실함수 - 평균제곱오차\n",
    "\n",
    "\n",
    "\n",
    "#주어진 데이터로 학습 : fit\n",
    "model.fit(x[:2], y[:2], epochs=100000, verbose=0)\n",
    "# 미지수는 가중치 하나와 편향값 하나\n",
    "# 입력 2개\n",
    "# 출력 2개\n",
    "# 반복학습횟수 1000\n",
    "# verbose : 학습 진행 상황 표시\n",
    "\n",
    "\n",
    "\n",
    "#성능 평가 : predict()\n",
    "print('Targets:',y[2:])\n",
    "#이후 3개의 데이터를 출력\n",
    "\n",
    "print('Predictions:',model.predict(x[2:]).flatten())\n",
    "#입력값을 주고 출력을 예측\n"
   ]
  },
  {
   "cell_type": "markdown",
   "metadata": {},
   "source": [
    "위의 코드를 돌리면,\n",
    ">Targets: [5 7 9]\n",
    "\n",
    ">Predictions: [4.9475074 6.909524  8.87154  ]\n",
    "\n",
    "    이렇게 출력이 된다.\n",
    "\n",
    ">Targets: [5 7 9] : y배열의 뒷부분(예측할 y의 답안 - 머신러닝은 x의 세 값(x[2:])을 기반으로 이 세 y값을 정확히 예측해야 한다.)\n",
    "\n",
    ">Predictions: [4.9475074 6.909524  8.87154  ] : 머신러닝모델(model)이 세 x값을 기반으로 예측한 세 y값"
   ]
  },
  {
   "cell_type": "markdown",
   "metadata": {},
   "source": [
    "### epoch 한 5만번 돌리면 결과 나오는 듯\n",
    "Predictions: [4.999976  6.9999585 8.999941 ]\n",
    "#\n",
    "그래도 확실한 정수로는 나오지 않는 듯 하다\n"
   ]
  },
  {
   "cell_type": "markdown",
   "metadata": {},
   "source": [
    "# > 정리!\n",
    "------------------\n",
    "### [ keras 모듈을 이용한 모델 생성을 위한 코드 순서 ]\n",
    "\n",
    "#### 1) 데이터 마련\n",
    "1. x 데이터를 마련한다. \n",
    "2. y 데이터를 마련한다. (label - 답지) \n",
    "\n",
    "#### 2) 모델 생성\n",
    "3. 모델 빈 껍데기 생성 <br/>\n",
    "    model = keras.models.Sequential() <br/>\n",
    "4. 모델에 계층 붙이기 <br/>\n",
    "    model.add(keras.layers.계층이름()) <br/>\n",
    "5. 모델 컴파일 <br/>\n",
    "    model.compile('학습알고리즘', '손실함수') <br/>\n",
    "\n",
    "#### 3) 모델 학습\n",
    "6. 모델을 학습한다 <br/>\n",
    "    model.fit(학습할 데이터 x, 학습할 데이터 y, 학습 반복 수, ...) <br/>\n",
    "\n",
    "#### 4) 모델 예측 \n",
    "7. 학습한 모델을 가지고 새로운 데이터의 label의 값을 예측시킨다. <br/>\n",
    "    model.predict(예측할 데이터 x).flatten() <br/>\n",
    "    \n",
    "@@faltten()은 뭐지."
   ]
  },
  {
   "cell_type": "code",
   "execution_count": null,
   "metadata": {},
   "outputs": [],
   "source": []
  }
 ],
 "metadata": {
  "kernelspec": {
   "display_name": "Python 3",
   "language": "python",
   "name": "python3"
  },
  "language_info": {
   "codemirror_mode": {
    "name": "ipython",
    "version": 3
   },
   "file_extension": ".py",
   "mimetype": "text/x-python",
   "name": "python",
   "nbconvert_exporter": "python",
   "pygments_lexer": "ipython3",
   "version": "3.7.0"
  }
 },
 "nbformat": 4,
 "nbformat_minor": 4
}
